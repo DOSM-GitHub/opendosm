{
  "nbformat": 4,
  "nbformat_minor": 0,
  "metadata": {
    "colab": {
      "name": "Connecting openData resources using Base R ",
      "provenance": []
    },
    "kernelspec": {
      "name": "ir",
      "display_name": "R"
    },
    "language_info": {
      "name": "R"
    }
  },
  "cells": [
    {
      "cell_type": "code",
      "execution_count": 1,
      "metadata": {
        "colab": {
          "base_uri": "https://localhost:8080/"
        },
        "id": "-abALWT30I7e",
        "outputId": "401f02dd-2719-4cff-e089-727011a06927"
      },
      "outputs": [
        {
          "output_type": "stream",
          "name": "stderr",
          "text": [
            "Installing package into ‘/usr/local/lib/R/site-library’\n",
            "(as ‘lib’ is unspecified)\n",
            "\n"
          ]
        }
      ],
      "source": [
        "install.packages(\"openxlsx\")\n",
        "library(openxlsx)\n"
      ]
    },
    {
      "cell_type": "markdown",
      "source": [
        "### Read from https://mysidc.statistics.gov.my/"
      ],
      "metadata": {
        "id": "ne0-LneR03Ra"
      }
    },
    {
      "cell_type": "code",
      "source": [
        "df = read.xlsx(\"https://mysidc.statistics.gov.my/indikator/downloadfile.php?ddd=xls|10681\",sheet=1)"
      ],
      "metadata": {
        "id": "7EOwDG-r0MiX"
      },
      "execution_count": 2,
      "outputs": []
    },
    {
      "cell_type": "code",
      "source": [
        "head(df)"
      ],
      "metadata": {
        "colab": {
          "base_uri": "https://localhost:8080/",
          "height": 286
        },
        "id": "EHmRIZ_20QxO",
        "outputId": "122b8d7d-c5a3-461a-84dc-e6a4bf1e1dd9"
      },
      "execution_count": 3,
      "outputs": [
        {
          "output_type": "display_data",
          "data": {
            "text/html": [
              "<table class=\"dataframe\">\n",
              "<caption>A data.frame: 6 × 4</caption>\n",
              "<thead>\n",
              "\t<tr><th></th><th scope=col>Year</th><th scope=col>Gross.Capital.Stock.(RM.Million)</th><th scope=col>Net.Capital.Stock.(RM.Million)</th><th scope=col>Productive.Capital.Stock.(RM.Million)</th></tr>\n",
              "\t<tr><th></th><th scope=col>&lt;chr&gt;</th><th scope=col>&lt;dbl&gt;</th><th scope=col>&lt;dbl&gt;</th><th scope=col>&lt;dbl&gt;</th></tr>\n",
              "</thead>\n",
              "<tbody>\n",
              "\t<tr><th scope=row>1</th><td>2000</td><td>1200298</td><td> 764499.0</td><td> 989509.6</td></tr>\n",
              "\t<tr><th scope=row>2</th><td>2001</td><td>1275723</td><td> 801402.6</td><td>1043925.7</td></tr>\n",
              "\t<tr><th scope=row>3</th><td>2002</td><td>1338315</td><td> 835096.8</td><td>1091229.1</td></tr>\n",
              "\t<tr><th scope=row>4</th><td>2003</td><td>1462813</td><td> 910528.7</td><td>1192572.8</td></tr>\n",
              "\t<tr><th scope=row>5</th><td>2004</td><td>1535403</td><td> 952903.9</td><td>1250092.7</td></tr>\n",
              "\t<tr><th scope=row>6</th><td>2005</td><td>1660826</td><td>1072947.0</td><td>1369050.0</td></tr>\n",
              "</tbody>\n",
              "</table>\n"
            ],
            "text/markdown": "\nA data.frame: 6 × 4\n\n| <!--/--> | Year &lt;chr&gt; | Gross.Capital.Stock.(RM.Million) &lt;dbl&gt; | Net.Capital.Stock.(RM.Million) &lt;dbl&gt; | Productive.Capital.Stock.(RM.Million) &lt;dbl&gt; |\n|---|---|---|---|---|\n| 1 | 2000 | 1200298 |  764499.0 |  989509.6 |\n| 2 | 2001 | 1275723 |  801402.6 | 1043925.7 |\n| 3 | 2002 | 1338315 |  835096.8 | 1091229.1 |\n| 4 | 2003 | 1462813 |  910528.7 | 1192572.8 |\n| 5 | 2004 | 1535403 |  952903.9 | 1250092.7 |\n| 6 | 2005 | 1660826 | 1072947.0 | 1369050.0 |\n\n",
            "text/latex": "A data.frame: 6 × 4\n\\begin{tabular}{r|llll}\n  & Year & Gross.Capital.Stock.(RM.Million) & Net.Capital.Stock.(RM.Million) & Productive.Capital.Stock.(RM.Million)\\\\\n  & <chr> & <dbl> & <dbl> & <dbl>\\\\\n\\hline\n\t1 & 2000 & 1200298 &  764499.0 &  989509.6\\\\\n\t2 & 2001 & 1275723 &  801402.6 & 1043925.7\\\\\n\t3 & 2002 & 1338315 &  835096.8 & 1091229.1\\\\\n\t4 & 2003 & 1462813 &  910528.7 & 1192572.8\\\\\n\t5 & 2004 & 1535403 &  952903.9 & 1250092.7\\\\\n\t6 & 2005 & 1660826 & 1072947.0 & 1369050.0\\\\\n\\end{tabular}\n",
            "text/plain": [
              "  Year Gross.Capital.Stock.(RM.Million) Net.Capital.Stock.(RM.Million)\n",
              "1 2000 1200298                           764499.0                     \n",
              "2 2001 1275723                           801402.6                     \n",
              "3 2002 1338315                           835096.8                     \n",
              "4 2003 1462813                           910528.7                     \n",
              "5 2004 1535403                           952903.9                     \n",
              "6 2005 1660826                          1072947.0                     \n",
              "  Productive.Capital.Stock.(RM.Million)\n",
              "1  989509.6                            \n",
              "2 1043925.7                            \n",
              "3 1091229.1                            \n",
              "4 1192572.8                            \n",
              "5 1250092.7                            \n",
              "6 1369050.0                            "
            ]
          },
          "metadata": {}
        }
      ]
    },
    {
      "cell_type": "code",
      "source": [
        "str(df)"
      ],
      "metadata": {
        "colab": {
          "base_uri": "https://localhost:8080/"
        },
        "id": "Y4voPASC0RWF",
        "outputId": "76c1244d-04ad-44b8-a877-30d0f3bd744c"
      },
      "execution_count": 4,
      "outputs": [
        {
          "output_type": "stream",
          "name": "stdout",
          "text": [
            "'data.frame':\t21 obs. of  4 variables:\n",
            " $ Year                                 : chr  \"2000\" \"2001\" \"2002\" \"2003\" ...\n",
            " $ Gross.Capital.Stock.(RM.Million)     : num  1200298 1275723 1338315 1462813 1535403 ...\n",
            " $ Net.Capital.Stock.(RM.Million)       : num  764499 801403 835097 910529 952904 ...\n",
            " $ Productive.Capital.Stock.(RM.Million): num  989510 1043926 1091229 1192573 1250093 ...\n"
          ]
        }
      ]
    },
    {
      "cell_type": "markdown",
      "source": [
        "### Read from openDOSM URL"
      ],
      "metadata": {
        "id": "NhG-DMRg1AIC"
      }
    },
    {
      "cell_type": "code",
      "source": [
        "data = read.xlsx('https://docs.google.com/spreadsheets/d/1Iq1CL5LB_0DRO2L44cteOqmWwLthT9nk/export?format=xlsx')\n",
        "head(data)"
      ],
      "metadata": {
        "colab": {
          "base_uri": "https://localhost:8080/",
          "height": 286
        },
        "id": "63kgWKnT0UC1",
        "outputId": "737817e4-9083-4014-a522-a257e1a45590"
      },
      "execution_count": 5,
      "outputs": [
        {
          "output_type": "display_data",
          "data": {
            "text/html": [
              "<table class=\"dataframe\">\n",
              "<caption>A data.frame: 6 × 7</caption>\n",
              "<thead>\n",
              "\t<tr><th></th><th scope=col>Price.type</th><th scope=col>Base.Year</th><th scope=col>Year</th><th scope=col>GDP.(RM.Million)</th><th scope=col>GNI.(RM.Million)</th><th scope=col>GDP.per.capita.(RM)</th><th scope=col>GNI.per.capita.(RM)</th></tr>\n",
              "\t<tr><th></th><th scope=col>&lt;chr&gt;</th><th scope=col>&lt;dbl&gt;</th><th scope=col>&lt;chr&gt;</th><th scope=col>&lt;dbl&gt;</th><th scope=col>&lt;dbl&gt;</th><th scope=col>&lt;dbl&gt;</th><th scope=col>&lt;dbl&gt;</th></tr>\n",
              "</thead>\n",
              "<tbody>\n",
              "\t<tr><th scope=row>1</th><td>Constant Prices</td><td>1970</td><td>1970</td><td>11829</td><td>11644</td><td>1087</td><td>1070</td></tr>\n",
              "\t<tr><th scope=row>2</th><td>Constant Prices</td><td>1970</td><td>1971</td><td>13016</td><td>12667</td><td>1166</td><td>1135</td></tr>\n",
              "\t<tr><th scope=row>3</th><td>Constant Prices</td><td>1970</td><td>1972</td><td>14238</td><td>13903</td><td>1244</td><td>1215</td></tr>\n",
              "\t<tr><th scope=row>4</th><td>Constant Prices</td><td>1970</td><td>1973</td><td>15904</td><td>15365</td><td>1357</td><td>1311</td></tr>\n",
              "\t<tr><th scope=row>5</th><td>Constant Prices</td><td>1970</td><td>1974</td><td>17227</td><td>16545</td><td>1435</td><td>1379</td></tr>\n",
              "\t<tr><th scope=row>6</th><td>Constant Prices</td><td>1970</td><td>1975</td><td>17365</td><td>16918</td><td>1412</td><td>1375</td></tr>\n",
              "</tbody>\n",
              "</table>\n"
            ],
            "text/markdown": "\nA data.frame: 6 × 7\n\n| <!--/--> | Price.type &lt;chr&gt; | Base.Year &lt;dbl&gt; | Year &lt;chr&gt; | GDP.(RM.Million) &lt;dbl&gt; | GNI.(RM.Million) &lt;dbl&gt; | GDP.per.capita.(RM) &lt;dbl&gt; | GNI.per.capita.(RM) &lt;dbl&gt; |\n|---|---|---|---|---|---|---|---|\n| 1 | Constant Prices | 1970 | 1970 | 11829 | 11644 | 1087 | 1070 |\n| 2 | Constant Prices | 1970 | 1971 | 13016 | 12667 | 1166 | 1135 |\n| 3 | Constant Prices | 1970 | 1972 | 14238 | 13903 | 1244 | 1215 |\n| 4 | Constant Prices | 1970 | 1973 | 15904 | 15365 | 1357 | 1311 |\n| 5 | Constant Prices | 1970 | 1974 | 17227 | 16545 | 1435 | 1379 |\n| 6 | Constant Prices | 1970 | 1975 | 17365 | 16918 | 1412 | 1375 |\n\n",
            "text/latex": "A data.frame: 6 × 7\n\\begin{tabular}{r|lllllll}\n  & Price.type & Base.Year & Year & GDP.(RM.Million) & GNI.(RM.Million) & GDP.per.capita.(RM) & GNI.per.capita.(RM)\\\\\n  & <chr> & <dbl> & <chr> & <dbl> & <dbl> & <dbl> & <dbl>\\\\\n\\hline\n\t1 & Constant Prices & 1970 & 1970 & 11829 & 11644 & 1087 & 1070\\\\\n\t2 & Constant Prices & 1970 & 1971 & 13016 & 12667 & 1166 & 1135\\\\\n\t3 & Constant Prices & 1970 & 1972 & 14238 & 13903 & 1244 & 1215\\\\\n\t4 & Constant Prices & 1970 & 1973 & 15904 & 15365 & 1357 & 1311\\\\\n\t5 & Constant Prices & 1970 & 1974 & 17227 & 16545 & 1435 & 1379\\\\\n\t6 & Constant Prices & 1970 & 1975 & 17365 & 16918 & 1412 & 1375\\\\\n\\end{tabular}\n",
            "text/plain": [
              "  Price.type      Base.Year Year GDP.(RM.Million) GNI.(RM.Million)\n",
              "1 Constant Prices 1970      1970 11829            11644           \n",
              "2 Constant Prices 1970      1971 13016            12667           \n",
              "3 Constant Prices 1970      1972 14238            13903           \n",
              "4 Constant Prices 1970      1973 15904            15365           \n",
              "5 Constant Prices 1970      1974 17227            16545           \n",
              "6 Constant Prices 1970      1975 17365            16918           \n",
              "  GDP.per.capita.(RM) GNI.per.capita.(RM)\n",
              "1 1087                1070               \n",
              "2 1166                1135               \n",
              "3 1244                1215               \n",
              "4 1357                1311               \n",
              "5 1435                1379               \n",
              "6 1412                1375               "
            ]
          },
          "metadata": {}
        }
      ]
    },
    {
      "cell_type": "code",
      "source": [
        "table = read.xlsx('https://docs.google.com/spreadsheets/d/1O0-JlHoDgxFO7otUAt9dGwiHiVImR7Fs/export?format=xlsx')\n",
        "head(table)"
      ],
      "metadata": {
        "colab": {
          "base_uri": "https://localhost:8080/",
          "height": 393
        },
        "id": "SOO3l6vE0rGW",
        "outputId": "39982ed2-2747-4301-ee70-3ef3943dfd20"
      },
      "execution_count": 6,
      "outputs": [
        {
          "output_type": "display_data",
          "data": {
            "text/html": [
              "<table class=\"dataframe\">\n",
              "<caption>A data.frame: 6 × 15</caption>\n",
              "<thead>\n",
              "\t<tr><th></th><th scope=col>KDNK.DAN.PNK.PADA.HARGA.MALAR,.1970.–.2019,.MALAYSIA</th><th scope=col>X2</th><th scope=col>X3</th><th scope=col>X4</th><th scope=col>X5</th><th scope=col>KDNK.DAN.PNK.PADA.HARGA.MALAR,.1970.–.2019,.MALAYSIA.(samb.)</th><th scope=col>X7</th><th scope=col>X8</th><th scope=col>X9</th><th scope=col>X10</th><th scope=col>KDNK.DAN.PNK.PADA.HARGA.MALAR,.1970.–.2019,.MALAYSIA.(samb.)</th><th scope=col>X12</th><th scope=col>X13</th><th scope=col>X14</th><th scope=col>X15</th></tr>\n",
              "\t<tr><th></th><th scope=col>&lt;chr&gt;</th><th scope=col>&lt;chr&gt;</th><th scope=col>&lt;chr&gt;</th><th scope=col>&lt;chr&gt;</th><th scope=col>&lt;chr&gt;</th><th scope=col>&lt;chr&gt;</th><th scope=col>&lt;chr&gt;</th><th scope=col>&lt;chr&gt;</th><th scope=col>&lt;chr&gt;</th><th scope=col>&lt;chr&gt;</th><th scope=col>&lt;chr&gt;</th><th scope=col>&lt;chr&gt;</th><th scope=col>&lt;chr&gt;</th><th scope=col>&lt;chr&gt;</th><th scope=col>&lt;chr&gt;</th></tr>\n",
              "</thead>\n",
              "<tbody>\n",
              "\t<tr><th scope=row>1</th><td>GDP and GNI at Constant Prices, 1970 –2019, Malaysia</td><td>NA                 </td><td>NA                </td><td>NA        </td><td>NA        </td><td>GDP and GNI at Constant Prices, 1970 –2019, Malaysia (cont’d)</td><td>NA                 </td><td>NA                </td><td>NA        </td><td>NA        </td><td>GDP and GNI at Constant Prices, 1970 –2019, Malaysia (cont’d)</td><td>NA                 </td><td>NA                </td><td>NA        </td><td>NA        </td></tr>\n",
              "\t<tr><th scope=row>2</th><td>Tahun                                               </td><td>KDNK               </td><td>PNK               </td><td>KDNK      </td><td>PNK       </td><td>Tahun                                                        </td><td>KDNK               </td><td>PNK               </td><td>KDNK      </td><td>PNK       </td><td>Tahun                                                        </td><td>KDNK               </td><td>PNK               </td><td>KDNK      </td><td>PNK       </td></tr>\n",
              "\t<tr><th scope=row>3</th><td>Year                                                </td><td>GDP                </td><td>GNI               </td><td>per kapita</td><td>per kapita</td><td>Year                                                         </td><td>GDP                </td><td>GNI               </td><td>per kapita</td><td>per kapita</td><td>Year                                                         </td><td>GDP                </td><td>GNI               </td><td>per kapita</td><td>per kapita</td></tr>\n",
              "\t<tr><th scope=row>4</th><td>NA                                                  </td><td>NA                 </td><td>NA                </td><td>GDP       </td><td>GNI       </td><td>NA                                                           </td><td>NA                 </td><td>NA                </td><td>GDP       </td><td>GNI       </td><td>NA                                                           </td><td>NA                 </td><td>NA                </td><td>GDP       </td><td>GNI       </td></tr>\n",
              "\t<tr><th scope=row>5</th><td>NA                                                  </td><td>NA                 </td><td>NA                </td><td>per capita</td><td>per capita</td><td>NA                                                           </td><td>NA                 </td><td>NA                </td><td>per capita</td><td>per capita</td><td>NA                                                           </td><td>NA                 </td><td>NA                </td><td>per capita</td><td>per capita</td></tr>\n",
              "\t<tr><th scope=row>6</th><td>NA                                                  </td><td>RM (Juta/ Million) </td><td>RM (Juta/ Million)</td><td>RM        </td><td>RM        </td><td>NA                                                           </td><td>RM (Juta/ Million) </td><td>RM (Juta/ Million)</td><td>RM        </td><td>RM        </td><td>NA                                                           </td><td>RM (Juta/ Million) </td><td>RM (Juta/ Million)</td><td>RM        </td><td>RM        </td></tr>\n",
              "</tbody>\n",
              "</table>\n"
            ],
            "text/markdown": "\nA data.frame: 6 × 15\n\n| <!--/--> | KDNK.DAN.PNK.PADA.HARGA.MALAR,.1970.–.2019,.MALAYSIA &lt;chr&gt; | X2 &lt;chr&gt; | X3 &lt;chr&gt; | X4 &lt;chr&gt; | X5 &lt;chr&gt; | KDNK.DAN.PNK.PADA.HARGA.MALAR,.1970.–.2019,.MALAYSIA.(samb.) &lt;chr&gt; | X7 &lt;chr&gt; | X8 &lt;chr&gt; | X9 &lt;chr&gt; | X10 &lt;chr&gt; | KDNK.DAN.PNK.PADA.HARGA.MALAR,.1970.–.2019,.MALAYSIA.(samb.) &lt;chr&gt; | X12 &lt;chr&gt; | X13 &lt;chr&gt; | X14 &lt;chr&gt; | X15 &lt;chr&gt; |\n|---|---|---|---|---|---|---|---|---|---|---|---|---|---|---|---|\n| 1 | GDP and GNI at Constant Prices, 1970 –2019, Malaysia | NA                  | NA                 | NA         | NA         | GDP and GNI at Constant Prices, 1970 –2019, Malaysia (cont’d) | NA                  | NA                 | NA         | NA         | GDP and GNI at Constant Prices, 1970 –2019, Malaysia (cont’d) | NA                  | NA                 | NA         | NA         |\n| 2 | Tahun                                                | KDNK                | PNK                | KDNK       | PNK        | Tahun                                                         | KDNK                | PNK                | KDNK       | PNK        | Tahun                                                         | KDNK                | PNK                | KDNK       | PNK        |\n| 3 | Year                                                 | GDP                 | GNI                | per kapita | per kapita | Year                                                          | GDP                 | GNI                | per kapita | per kapita | Year                                                          | GDP                 | GNI                | per kapita | per kapita |\n| 4 | NA                                                   | NA                  | NA                 | GDP        | GNI        | NA                                                            | NA                  | NA                 | GDP        | GNI        | NA                                                            | NA                  | NA                 | GDP        | GNI        |\n| 5 | NA                                                   | NA                  | NA                 | per capita | per capita | NA                                                            | NA                  | NA                 | per capita | per capita | NA                                                            | NA                  | NA                 | per capita | per capita |\n| 6 | NA                                                   | RM (Juta/ Million)  | RM (Juta/ Million) | RM         | RM         | NA                                                            | RM (Juta/ Million)  | RM (Juta/ Million) | RM         | RM         | NA                                                            | RM (Juta/ Million)  | RM (Juta/ Million) | RM         | RM         |\n\n",
            "text/latex": "A data.frame: 6 × 15\n\\begin{tabular}{r|lllllllllllllll}\n  & KDNK.DAN.PNK.PADA.HARGA.MALAR,.1970.–.2019,.MALAYSIA & X2 & X3 & X4 & X5 & KDNK.DAN.PNK.PADA.HARGA.MALAR,.1970.–.2019,.MALAYSIA.(samb.) & X7 & X8 & X9 & X10 & KDNK.DAN.PNK.PADA.HARGA.MALAR,.1970.–.2019,.MALAYSIA.(samb.) & X12 & X13 & X14 & X15\\\\\n  & <chr> & <chr> & <chr> & <chr> & <chr> & <chr> & <chr> & <chr> & <chr> & <chr> & <chr> & <chr> & <chr> & <chr> & <chr>\\\\\n\\hline\n\t1 & GDP and GNI at Constant Prices, 1970 –2019, Malaysia & NA                  & NA                 & NA         & NA         & GDP and GNI at Constant Prices, 1970 –2019, Malaysia (cont’d) & NA                  & NA                 & NA         & NA         & GDP and GNI at Constant Prices, 1970 –2019, Malaysia (cont’d) & NA                  & NA                 & NA         & NA        \\\\\n\t2 & Tahun                                                & KDNK                & PNK                & KDNK       & PNK        & Tahun                                                         & KDNK                & PNK                & KDNK       & PNK        & Tahun                                                         & KDNK                & PNK                & KDNK       & PNK       \\\\\n\t3 & Year                                                 & GDP                 & GNI                & per kapita & per kapita & Year                                                          & GDP                 & GNI                & per kapita & per kapita & Year                                                          & GDP                 & GNI                & per kapita & per kapita\\\\\n\t4 & NA                                                   & NA                  & NA                 & GDP        & GNI        & NA                                                            & NA                  & NA                 & GDP        & GNI        & NA                                                            & NA                  & NA                 & GDP        & GNI       \\\\\n\t5 & NA                                                   & NA                  & NA                 & per capita & per capita & NA                                                            & NA                  & NA                 & per capita & per capita & NA                                                            & NA                  & NA                 & per capita & per capita\\\\\n\t6 & NA                                                   & RM (Juta/ Million)  & RM (Juta/ Million) & RM         & RM         & NA                                                            & RM (Juta/ Million)  & RM (Juta/ Million) & RM         & RM         & NA                                                            & RM (Juta/ Million)  & RM (Juta/ Million) & RM         & RM        \\\\\n\\end{tabular}\n",
            "text/plain": [
              "  KDNK.DAN.PNK.PADA.HARGA.MALAR,.1970.–.2019,.MALAYSIA X2                 \n",
              "1 GDP and GNI at Constant Prices, 1970 –2019, Malaysia NA                 \n",
              "2 Tahun                                                KDNK               \n",
              "3 Year                                                 GDP                \n",
              "4 NA                                                   NA                 \n",
              "5 NA                                                   NA                 \n",
              "6 NA                                                   RM (Juta/ Million) \n",
              "  X3                 X4         X5        \n",
              "1 NA                 NA         NA        \n",
              "2 PNK                KDNK       PNK       \n",
              "3 GNI                per kapita per kapita\n",
              "4 NA                 GDP        GNI       \n",
              "5 NA                 per capita per capita\n",
              "6 RM (Juta/ Million) RM         RM        \n",
              "  KDNK.DAN.PNK.PADA.HARGA.MALAR,.1970.–.2019,.MALAYSIA.(samb.) \n",
              "1 GDP and GNI at Constant Prices, 1970 –2019, Malaysia (cont’d)\n",
              "2 Tahun                                                        \n",
              "3 Year                                                         \n",
              "4 NA                                                           \n",
              "5 NA                                                           \n",
              "6 NA                                                           \n",
              "  X7                  X8                 X9         X10       \n",
              "1 NA                  NA                 NA         NA        \n",
              "2 KDNK                PNK                KDNK       PNK       \n",
              "3 GDP                 GNI                per kapita per kapita\n",
              "4 NA                  NA                 GDP        GNI       \n",
              "5 NA                  NA                 per capita per capita\n",
              "6 RM (Juta/ Million)  RM (Juta/ Million) RM         RM        \n",
              "  KDNK.DAN.PNK.PADA.HARGA.MALAR,.1970.–.2019,.MALAYSIA.(samb.) \n",
              "1 GDP and GNI at Constant Prices, 1970 –2019, Malaysia (cont’d)\n",
              "2 Tahun                                                        \n",
              "3 Year                                                         \n",
              "4 NA                                                           \n",
              "5 NA                                                           \n",
              "6 NA                                                           \n",
              "  X12                 X13                X14        X15       \n",
              "1 NA                  NA                 NA         NA        \n",
              "2 KDNK                PNK                KDNK       PNK       \n",
              "3 GDP                 GNI                per kapita per kapita\n",
              "4 NA                  NA                 GDP        GNI       \n",
              "5 NA                  NA                 per capita per capita\n",
              "6 RM (Juta/ Million)  RM (Juta/ Million) RM         RM        "
            ]
          },
          "metadata": {}
        }
      ]
    },
    {
      "cell_type": "code",
      "source": [
        ""
      ],
      "metadata": {
        "id": "3LsqW2mK0yNy"
      },
      "execution_count": null,
      "outputs": []
    }
  ]
}